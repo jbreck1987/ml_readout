{
 "cells": [
  {
   "cell_type": "markdown",
   "metadata": {},
   "source": [
    "#### Goal is to explore the functionality to generate phase response pulses using the mkidreadoutanalysis package"
   ]
  },
  {
   "cell_type": "code",
   "execution_count": null,
   "metadata": {},
   "outputs": [],
   "source": [
    "import numpy as np\n",
    "import matplotlib.pyplot as plt\n",
    "from mkidreadoutanalysis.quasiparticletimestream import QuasiparticleTimeStream\n",
    "from mkidreadoutanalysis.resonator import Resonator, RFElectronics, ReadoutPhotonResonator, FrequencyGrid, LineNoise"
   ]
  },
  {
   "cell_type": "code",
   "execution_count": null,
   "metadata": {},
   "outputs": [],
   "source": [
    "# Like usual, lets start by creating the photons using the Quasiparticle time stream.\n",
    "# We will modulate the quasiparticle density perturbations to get more realistic data\n",
    "mags = np.arange(0, 1.1, 0.1)\n",
    "sampling_rate = 1e6 # Hz\n",
    "sampling_interval = 0.01 # Secs; number of samples = 1e6 * 1e-2 = 1e4 (10000)\n",
    "\n",
    "qpt = QuasiparticleTimeStream(sampling_rate, sampling_interval)\n",
    "qpt.gen_quasiparticle_pulse()\n",
    "_ = qpt.gen_photon_arrivals(cps=1000)\n",
    "_ = qpt.populate_photons()"
   ]
  },
  {
   "cell_type": "code",
   "execution_count": null,
   "metadata": {},
   "outputs": [],
   "source": [
    "# Now lets visualize the quasiparticle density time stream\n",
    "plt.figure(figsize=(10,5))\n",
    "plt.plot(np.arange(qpt.data.size), qpt.data)\n",
    "plt.xlabel('Time (us)')\n",
    "plt.ylabel(r'$\\Delta$ Quasiparticle Density')"
   ]
  },
  {
   "cell_type": "code",
   "execution_count": null,
   "metadata": {},
   "outputs": [],
   "source": [
    "# With the quasiparticle density and photon timestreams generated, now lets create a resonator object\n",
    "# that defines the resonator specific parameters, along with a representation of the readout electronics\n",
    "# and frequency grid.\n",
    "resonator = Resonator(f0=4.0012e9, # resonant frequency\n",
    "                      qi=200000, # internal quality factor\n",
    "                      qc=15000, # coupling quality factor\n",
    "                      xa=1e-9, # asymmetry fractional detuning (See Nick's thesis, pg. 29)\n",
    "                      a=0, # nonlinear saturation parameter (See Nick's thesis, pg. 30)\n",
    "                      tls_scale=1 # Used to generate tls noise; should be the PSD of the noise at 1Hz\n",
    "                      )\n",
    "rf_electronics = RFElectronics(gain=(3.0, 0, 0), # Coeffecients for creating a quadratic, 1D polynomial representing gain function\n",
    "                               phase_delay=0, # Loop rotation (radians)\n",
    "                               cable_delay=50e-9 # Secs\n",
    "                               )\n",
    "# Frequency Grid object contains the frequency related \"knobs\" of the readout electronics (readout frequency range)\n",
    "freq_grid = FrequencyGrid(fc=resonator.f0, # Center of the frequency sweep in Hz (set as the resonator's resonant freq.)\n",
    "                          points=1000, # Resolution of the sweep\n",
    "                          span=500e6 # Bandwidth of the sweep in Hz\n",
    "                          )"
   ]
  },
  {
   "cell_type": "code",
   "execution_count": null,
   "metadata": {},
   "outputs": [],
   "source": [
    "# With all the components created above, lets tie it all together to create an entire system.\n",
    "# This will be without any added noise\n",
    "readout = ReadoutPhotonResonator(resonator, qpt, freq_grid, rf_electronics, noise_on=False)\n",
    "\n",
    "# Now that we have a readout system, let's generate the the phase response (without noise)\n",
    "# using the original coordinate transformation (see Nick's thesis, pg. 32).\n",
    "# This transformation has significantly lower resolving power at high energies.\n",
    "phase_response, _ = readout.basic_coordinate_transformation()"
   ]
  },
  {
   "cell_type": "code",
   "execution_count": null,
   "metadata": {},
   "outputs": [],
   "source": [
    "# Now lets plot the idealized phase response\n",
    "plt.figure(figsize=(10,5))\n",
    "plt.plot(np.arange(phase_response.size), phase_response)\n",
    "plt.xlabel('Time (us)')\n",
    "plt.ylabel('Phase Response (radians)')"
   ]
  },
  {
   "cell_type": "code",
   "execution_count": null,
   "metadata": {},
   "outputs": [],
   "source": [
    "# Now lets add some noise to the system to make it more realistic\n",
    "line_noise = LineNoise(freqs=[60, 50e3, 100e3, 250e3, -300e3, 300e3, 500e3], # Noise frequencies in Hz relative to FrequencyGrid center freq.\n",
    "                       amplitudes=[0.05, 0.05, 0.05, 0.05, 0.05, 0.05, 0.01], # Associated amplitudes of the noise frequencies above\n",
    "                       phases=[0, 0.5, 0,1.3,0.5, 0.2, 2.4], # Associated phases\n",
    "                       n_samples=100,\n",
    "                       fs=1e2 # Sampling rate in Hz\n",
    "                      )\n",
    "\n",
    "noisy_electronics = RFElectronics((3,0,0),\n",
    "                                  0,\n",
    "                                  50e-9,\n",
    "                                  white_noise_scale=30,\n",
    "                                  line_noise=line_noise\n",
    "                                  ) \n",
    "\n",
    "readout = ReadoutPhotonResonator(resonator, qpt, freq_grid, noisy_electronics, noise_on=True)\n",
    "\n",
    "noisy_phase_response, _ = readout.basic_coordinate_transformation()\n",
    "plt.figure(figsize=(10,5))\n",
    "plt.plot(np.arange(noisy_phase_response.size), noisy_phase_response)\n",
    "plt.xlabel('Time (us)')\n",
    "plt.ylabel('Phase Response (radians)')"
   ]
  }
 ],
 "metadata": {
  "kernelspec": {
   "display_name": "ml",
   "language": "python",
   "name": "python3"
  },
  "language_info": {
   "codemirror_mode": {
    "name": "ipython",
    "version": 3
   },
   "file_extension": ".py",
   "mimetype": "text/x-python",
   "name": "python",
   "nbconvert_exporter": "python",
   "pygments_lexer": "ipython3",
   "version": "3.10.11"
  },
  "orig_nbformat": 4
 },
 "nbformat": 4,
 "nbformat_minor": 2
}

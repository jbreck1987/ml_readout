{
 "cells": [
  {
   "cell_type": "markdown",
   "metadata": {},
   "source": [
    "## Visualization of model performance"
   ]
  },
  {
   "cell_type": "code",
   "execution_count": null,
   "metadata": {},
   "outputs": [],
   "source": [
    "import pathlib\n",
    "import random\n",
    "import torch\n",
    "import numpy as np\n",
    "import matplotlib.pyplot as plt\n",
    "from torch.utils.data import TensorDataset\n",
    "from sklearn.model_selection import train_test_split\n",
    "\n",
    "\n",
    "from models import ConvRegv1\n",
    "from mlcore.training import make_predictions\n",
    "from mlcore.eval import plot_stream_data"
   ]
  },
  {
   "cell_type": "markdown",
   "metadata": {},
   "source": [
    "#### Model and Data Loading"
   ]
  },
  {
   "cell_type": "code",
   "execution_count": null,
   "metadata": {},
   "outputs": [],
   "source": [
    "# Load model\n",
    "MODEL_DIR = pathlib.Path().cwd() / 'trained_models'\n",
    "MODEL_FNAME = 'cnn_reg_1690825598.pt'\n",
    "RANDOM_SEED = 42\n",
    "TEST_RATIO = 0.2\n",
    "BATCH_SIZE = 32\n",
    "\n",
    "model = ConvRegv1(in_channels=2)\n",
    "model.load_state_dict(torch.load(MODEL_DIR / MODEL_FNAME))"
   ]
  },
  {
   "cell_type": "code",
   "execution_count": null,
   "metadata": {},
   "outputs": [],
   "source": [
    "# Load data and build Torch datasets\n",
    "X, y = [], []\n",
    "\n",
    "# Load the dataset\n",
    "data_dir = '../../../data/pulses/single_pulse/'\n",
    "pulse_list = np.load(data_dir + 'p_single_num1000_win1000_pad60.npz')\n",
    "pulses = list(pulse_list['pulses'])\n",
    "print(len(pulses))\n",
    "\n",
    "# Split labels and training samples while also doing feature scaling on the labels\n",
    "for element in pulses:\n",
    "    X.append(element[0:2,:])\n",
    "    y.append(np.argwhere(element[2] == 1) / 1000)\n",
    "\n",
    "X_train, X_test, y_train, y_test = train_test_split(\n",
    "    X,\n",
    "    y,\n",
    "    test_size=TEST_RATIO, # Ratio of test data to use from full dataset; Training is the complement\n",
    "    random_state=RANDOM_SEED\n",
    ")\n",
    "\n",
    "# Convert the lists to Tensors. Converting to np arrays first based on warning from torch\n",
    "X_train = torch.Tensor(np.array(X_train))\n",
    "X_test = torch.Tensor(np.array(X_test))\n",
    "y_train = torch.Tensor(np.array(y_train))\n",
    "y_test = torch.Tensor(np.array(y_test))\n",
    "\n",
    "# Convert from numpy arrays to Tensors and create datasets\n",
    "train_dataset = TensorDataset(X_train, y_train)\n",
    "test_dataset = TensorDataset(X_test, y_test)"
   ]
  },
  {
   "cell_type": "markdown",
   "metadata": {},
   "source": [
    "### Model Predictions and Visualization"
   ]
  },
  {
   "cell_type": "code",
   "execution_count": null,
   "metadata": {},
   "outputs": [],
   "source": [
    "# Pick n random samples/labels from the test data and plot them\n",
    "test_samples = []\n",
    "test_labels = []\n",
    "\n",
    "for sample, label in random.sample(list(test_dataset), k=15): # random.sample samples k elements from the given population without replacement; returns list of samples.\n",
    "    test_samples.append(sample)\n",
    "    test_labels.append(label)\n",
    "\n",
    "print(f'Test Sample Shape: {test_samples[0].shape}, Test Label Shape: {test_labels[0].shape}')\n",
    "preds = make_predictions(model, [x.unsqueeze(dim=0) for x in test_samples]) # returns a tensor\n",
    "print(f'Preds shape {preds[0].shape}')"
   ]
  },
  {
   "cell_type": "code",
   "execution_count": null,
   "metadata": {},
   "outputs": [],
   "source": [
    "for i in range(10):\n",
    "    pred_index = (preds[i] * 1000).int()\n",
    "    target_index = (test_labels[i] * 1000).int() \n",
    "    pred_stream = torch.zeros_like(test_samples[0][0])\n",
    "    target_stream = torch.zeros_like(pred_stream)\n",
    "    pred_stream[pred_index] = 1\n",
    "    target_stream[target_index] = 1\n",
    "    #plt.figure()\n",
    "    print(f'Prediction Error: {torch.abs(pred_index - target_index).item()}us')\n",
    "    plot_stream_data(test_samples[i][0].numpy(),\n",
    "                     test_samples[i][1].numpy(),\n",
    "                     pred_stream.numpy() + target_stream.numpy(),\n",
    "                     units='us')"
   ]
  }
 ],
 "metadata": {
  "kernelspec": {
   "display_name": "ml",
   "language": "python",
   "name": "python3"
  },
  "language_info": {
   "codemirror_mode": {
    "name": "ipython",
    "version": 3
   },
   "file_extension": ".py",
   "mimetype": "text/x-python",
   "name": "python",
   "nbconvert_exporter": "python",
   "pygments_lexer": "ipython3",
   "version": "3.10.11"
  },
  "orig_nbformat": 4
 },
 "nbformat": 4,
 "nbformat_minor": 2
}

{
 "cells": [
  {
   "cell_type": "markdown",
   "metadata": {},
   "source": [
    "## Visualization of model performance"
   ]
  },
  {
   "cell_type": "code",
   "execution_count": null,
   "metadata": {},
   "outputs": [],
   "source": [
    "import pathlib\n",
    "import random\n",
    "import torch\n",
    "import numpy as np\n",
    "import matplotlib.pyplot as plt\n",
    "from torch.utils.data import TensorDataset\n",
    "from sklearn.model_selection import train_test_split\n",
    "\n",
    "from models import ConvRegv2\n",
    "from mlcore.training import make_predictions\n",
    "from mlcore.eval import plot_stream_data"
   ]
  },
  {
   "cell_type": "markdown",
   "metadata": {},
   "source": [
    "#### Model and Data Loading"
   ]
  },
  {
   "cell_type": "code",
   "execution_count": null,
   "metadata": {},
   "outputs": [],
   "source": [
    "# Load model\n",
    "MODEL_DIR = pathlib.Path().cwd() / 'trained_models'\n",
    "MODEL_FNAME = 'cnn_reg_1690938188.pt'\n",
    "RANDOM_SEED = 42\n",
    "TEST_RATIO = 0.2\n",
    "BATCH_SIZE = 32\n",
    "WINDOW_SIZE = 1000\n",
    "NUM_SAMPLES = 1000\n",
    "\n",
    "model = ConvRegv2(2, BATCH_SIZE)\n",
    "model.load_state_dict(torch.load(MODEL_DIR / MODEL_FNAME))"
   ]
  },
  {
   "cell_type": "code",
   "execution_count": null,
   "metadata": {},
   "outputs": [],
   "source": [
    "# Load data and build Torch datasets\n",
    "X, y = [], []\n",
    "\n",
    "# Load the dataset\n",
    "data_dir = '../../../data/pulses/single_pulse/'\n",
    "pulse_list = np.load(data_dir + f'vp_single_num{NUM_SAMPLES}_win{WINDOW_SIZE}_pad10.npz')\n",
    "pulses = list(pulse_list['pulses'])\n",
    "print(len(pulses))\n",
    "\n",
    "X, y = [], []\n",
    "random.shuffle(pulses)\n",
    "for element in pulses:\n",
    "    X.append(element[0:2,:]) # I and Q timestreams\n",
    "    arr_time = np.argwhere(element[2] == 1).item()\n",
    "    pulse_height = element[3][arr_time].item()\n",
    "    y.append(np.array([arr_time / WINDOW_SIZE, pulse_height]).reshape(1,2)) # Scaling arrival time [0, WINDOW_SIZE] -> [0, 1]\n",
    "\n",
    "\n",
    "X_train, X_test, y_train, y_test = train_test_split(\n",
    "    X,\n",
    "    y,\n",
    "    test_size=TEST_RATIO, # Ratio of test data to use from full dataset; Training is the complement\n",
    "    random_state=RANDOM_SEED\n",
    ")\n",
    "\n",
    "# Convert the lists to Tensors. Converting to np arrays first based on warning from torch\n",
    "X_train = torch.Tensor(np.array(X_train))\n",
    "X_test = torch.Tensor(np.array(X_test))\n",
    "y_train = torch.Tensor(np.array(y_train))\n",
    "y_test = torch.Tensor(np.array(y_test))\n",
    "\n",
    "# Convert from numpy arrays to Tensors and create datasets\n",
    "train_dataset = TensorDataset(X_train, y_train)\n",
    "test_dataset = TensorDataset(X_test, y_test)"
   ]
  },
  {
   "cell_type": "markdown",
   "metadata": {},
   "source": [
    "### Model Predictions and Visualization"
   ]
  },
  {
   "cell_type": "code",
   "execution_count": null,
   "metadata": {},
   "outputs": [],
   "source": [
    "# Pick k random samples/labels from the test data and plot them along with the predictions\n",
    "test_samples = []\n",
    "test_labels = []\n",
    "\n",
    "for sample, label in random.sample(list(test_dataset), k=len(test_dataset)): # random.sample samples k elements from the given population without replacement; returns list of samples.\n",
    "    test_samples.append(sample)\n",
    "    test_labels.append(label)\n",
    "\n",
    "print(f'Test Sample Shape: {test_samples[0].shape}, Test Label Shape: {test_labels[0].shape}')\n",
    "preds = make_predictions(model, [x.unsqueeze(dim=0) for x in test_samples]) # returns a tensor\n",
    "print(f'Preds shape {preds[0].shape}')"
   ]
  },
  {
   "cell_type": "code",
   "execution_count": null,
   "metadata": {},
   "outputs": [],
   "source": [
    "# Since the train/test loss was so low and the absolute error was low, lets determine the difference between the predicted and\n",
    "# target arival times and plot this\n",
    "# Note the multiplication by 1000 to get back to the arrival time element\n",
    "arrival_diff = [torch.abs(WINDOW_SIZE * y_pred[0][0][0] - WINDOW_SIZE * y_true[0][0]).item() for y_pred, y_true in zip(preds, test_labels)]\n",
    "\n",
    "plt.figure()\n",
    "plt.title('Photon Arrival Time Error')\n",
    "plt.plot(np.arange(len(arrival_diff)), arrival_diff)\n",
    "plt.xlabel('Test Sample')\n",
    "plt.ylabel('Error (us)')\n",
    "plt.show()"
   ]
  },
  {
   "cell_type": "code",
   "execution_count": null,
   "metadata": {},
   "outputs": [],
   "source": [
    "# Now that the error is known, let's plot the actual values for both the predictions and the targets\n",
    "plt.figure(figsize=(12,7))\n",
    "plt.title('Photon Arrival Time Predicted vs Target')\n",
    "#plt.plot(np.arange(len(preds)), [WINDOW_SIZE*pred[0][0][0].item() for pred in preds], label='Predicted')\n",
    "#plt.plot(np.arange(len(test_labels)), [WINDOW_SIZE*label[0][0].item() for label in test_labels], label='Target')\n",
    "plt.scatter(np.arange(len(preds)), [WINDOW_SIZE*pred[0][0][0].item() for pred in preds], marker='+', label='Predicted')\n",
    "plt.scatter(np.arange(len(test_labels)), [WINDOW_SIZE*label[0][0].item() for label in test_labels], label='Target')\n",
    "plt.xlabel('Test Sample')\n",
    "plt.ylabel('Photon Arrival (us)')\n",
    "plt.legend()\n",
    "plt.show()"
   ]
  },
  {
   "cell_type": "code",
   "execution_count": null,
   "metadata": {},
   "outputs": [],
   "source": [
    "# Now lets do the same with the pulse height\n",
    "height_diff = [torch.abs(y_pred[0][0][1] - y_true[0][1]).item() for y_pred, y_true in zip(preds, test_labels)]\n",
    "\n",
    "plt.figure()\n",
    "plt.title('Error in Pulse Height')\n",
    "plt.plot(np.arange(len(height_diff)), height_diff)\n",
    "plt.xlabel('Test Sample')\n",
    "plt.ylabel('Error')\n",
    "plt.show()\n",
    "\n",
    "plt.figure(figsize=(12,7))\n",
    "plt.title('Pulse Height Predicted vs Target')\n",
    "#plt.plot(np.arange(len(preds)), [pred[0][0][1].item() for pred in preds], label='Predicted')\n",
    "#plt.plot(np.arange(len(test_labels)), [label[0][1].item() for label in test_labels], label='Target')\n",
    "plt.scatter(np.arange(len(preds)), [pred[0][0][1].item() for pred in preds], label='Predicted')\n",
    "plt.scatter(np.arange(len(test_labels)), [label[0][1].item() for label in test_labels], marker='+', label='Target')\n",
    "plt.xlabel('Test Sample')\n",
    "plt.ylabel('Pulse Height (a.u.)')\n",
    "plt.legend()\n",
    "plt.show()"
   ]
  },
  {
   "cell_type": "markdown",
   "metadata": {},
   "source": [
    "### Energy Prediction and Resolution"
   ]
  },
  {
   "cell_type": "markdown",
   "metadata": {},
   "source": [
    "#### Let's plot a histogram of the quasiparticle perturbation predictions from the model"
   ]
  },
  {
   "cell_type": "code",
   "execution_count": null,
   "metadata": {},
   "outputs": [],
   "source": [
    "# Create the histogram of all values and then plot\n",
    "qp_preds = np.array([pred[0][0][1] for pred in preds])\n",
    "counts, bins = np.histogram(qp_preds, range=(0.5, qp_preds.max() + (0.2 * qp_preds.max())), bins=100)\n",
    "\n",
    "# Recover true pulse heights from the test label data\n",
    "qp_true = np.unique([target.squeeze()[1].item() for target in test_labels])\n",
    "\n",
    "# Lets plot the histogram\n",
    "plt.figure(figsize=(12,7))\n",
    "plt.title('Predicted Pulse Heights')\n",
    "plt.stairs(counts, bins)\n",
    "\n",
    "# Need to add in the true pulse heights\n",
    "for target in qp_true:\n",
    "    plt.axvline(target, c='r')\n",
    "plt.xlabel('Pulse Height')\n",
    "plt.ylabel('Counts')\n",
    "plt.show()"
   ]
  },
  {
   "cell_type": "markdown",
   "metadata": {},
   "source": [
    "#### Based on the results, the model predictions have a systematic shift above the expected values. I think the test set needs to be much larger to get better idea of statistics."
   ]
  },
  {
   "cell_type": "code",
   "execution_count": null,
   "metadata": {},
   "outputs": [],
   "source": [
    "plot_stream_data('us',\n",
    "                 i=pulses[0][0],      \n",
    "                 q=pulses[0][1],\n",
    "                 photon_arrivals=pulses[0][2],\n",
    "                 qp_density=pulses[0][3],\n",
    "                 phase_response=pulses[0][4])"
   ]
  },
  {
   "cell_type": "code",
   "execution_count": null,
   "metadata": {},
   "outputs": [],
   "source": []
  }
 ],
 "metadata": {
  "kernelspec": {
   "display_name": "ml",
   "language": "python",
   "name": "python3"
  },
  "language_info": {
   "codemirror_mode": {
    "name": "ipython",
    "version": 3
   },
   "file_extension": ".py",
   "mimetype": "text/x-python",
   "name": "python",
   "nbconvert_exporter": "python",
   "pygments_lexer": "ipython3",
   "version": "3.10.11"
  },
  "orig_nbformat": 4
 },
 "nbformat": 4,
 "nbformat_minor": 2
}
